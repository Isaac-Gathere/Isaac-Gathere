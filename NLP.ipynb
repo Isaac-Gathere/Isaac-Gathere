{
  "nbformat": 4,
  "nbformat_minor": 0,
  "metadata": {
    "colab": {
      "provenance": [],
      "authorship_tag": "ABX9TyNhyk8bc8gFhh3HCqlMoHPi",
      "include_colab_link": true
    },
    "kernelspec": {
      "name": "python3",
      "display_name": "Python 3"
    },
    "language_info": {
      "name": "python"
    }
  },
  "cells": [
    {
      "cell_type": "markdown",
      "metadata": {
        "id": "view-in-github",
        "colab_type": "text"
      },
      "source": [
        "<a href=\"https://colab.research.google.com/github/Isaac-Gathere/Isaac-Gathere/blob/main/NLP.ipynb\" target=\"_parent\"><img src=\"https://colab.research.google.com/assets/colab-badge.svg\" alt=\"Open In Colab\"/></a>"
      ]
    },
    {
      "cell_type": "code",
      "source": [
        "# install necessary packages using pip\n",
        "!pip install keras numpy wget"
      ],
      "metadata": {
        "id": "dGe1-5jukAGD",
        "colab": {
          "base_uri": "https://localhost:8080/"
        },
        "outputId": "78f445f2-b489-4699-b1ce-f5d4efd84e7d"
      },
      "execution_count": null,
      "outputs": [
        {
          "output_type": "stream",
          "name": "stdout",
          "text": [
            "Looking in indexes: https://pypi.org/simple, https://us-python.pkg.dev/colab-wheels/public/simple/\n",
            "Requirement already satisfied: keras in /usr/local/lib/python3.9/dist-packages (2.11.0)\n",
            "Requirement already satisfied: numpy in /usr/local/lib/python3.9/dist-packages (1.22.4)\n",
            "Requirement already satisfied: wget in /usr/local/lib/python3.9/dist-packages (3.2)\n"
          ]
        }
      ]
    },
    {
      "cell_type": "code",
      "source": [
        "import os\n",
        "import io\n",
        "import tensorflow as tf\n",
        "import numpy as np\n",
        "from keras.models import Sequential\n",
        "from keras.layers import Embedding, LSTM, Dense, TimeDistributed\n",
        "from keras.utils import to_categorical as keras_to_categorical\n",
        "from keras.utils import pad_sequences\n",
        "import nltk\n",
        "import sys\n",
        "import string"
      ],
      "metadata": {
        "id": "ocjI6C29kKn4"
      },
      "execution_count": null,
      "outputs": []
    },
    {
      "cell_type": "code",
      "source": [
        "def load_corpus(path):\n",
        "    # Check if the path is a directory.\n",
        "    if not os.path.isdir(path):\n",
        "        sys.exit(\"Input path is not a directory\")\n",
        "    \n",
        "    # Define lists to hold sentences and their corresponding tags.\n",
        "    sentences, tags = [], []\n",
        "\n",
        "    # Iterate through each file in the directory.\n",
        "    for filename in os.listdir(path):\n",
        "        file_path = os.path.join(path, filename)\n",
        "        with open(file_path, \"r\") as f:\n",
        "            sentence, tag = [], []\n",
        "            for line in f:\n",
        "                # Split each line into a word and its corresponding tag.\n",
        "                parts = line.strip().split(\"\\t\")\n",
        "                if len(parts) == 2:\n",
        "                    word, tag_ = parts\n",
        "                    sentence.append(word)\n",
        "                    tag.append(tag_)\n",
        "            sentences.append(sentence)\n",
        "            tags.append(tag)\n",
        "    return sentences, tags\n",
        "\n",
        "# Test the function here:\n",
        "path = \"/content/drive/MyDrive/NLP/modified_brown\"\n",
        "data = load_corpus(path)"
      ],
      "metadata": {
        "id": "9fH1AKfWkk0j"
      },
      "execution_count": null,
      "outputs": []
    },
    {
      "cell_type": "code",
      "source": [
        "# Creates the dataset with train_X (words) and train_y (tag).\n",
        "def create_dataset(sentences):\n",
        "    # Defines the relevant lists.\n",
        "    train_X, train_y = list(), list()\n",
        "\n",
        "    # Iterate over the sentences and tags, and create the dataset.\n",
        "    for sentence in sentences:\n",
        "        words, tags = [], []\n",
        "        for word_tag in sentence:\n",
        "            word, tag = word_tag.split(\"_\")\n",
        "            words.append(word)\n",
        "            tags.append(tag)\n",
        "        train_X.append(words)\n",
        "        train_y.append(tags)\n",
        "\n",
        "    return train_X, train_y\n",
        "\n",
        "# Test the function here.\n",
        "train_X, train_y = create_dataset(data[0])\n"
      ],
      "metadata": {
        "id": "EgpqfrkClrQf"
      },
      "execution_count": null,
      "outputs": []
    },
    {
      "cell_type": "code",
      "source": [
        "from tensorflow.keras.preprocessing.sequence import pad_sequences as pad\n",
        "\n",
        "# Pad the sequences with 0s to the max length.\n",
        "def pad_sequences(train_X, train_y):\n",
        "    # Use MAX_LENGTH to record length of longest sequence \n",
        "    MAX_LENGTH = max(len(sentence) for sentence in train_X)\n",
        "    \n",
        "    # Pad the sequences with 0s to the max length.\n",
        "    train_X = pad(train_X, maxlen=MAX_LENGTH, padding=\"post\", value=0)\n",
        "    train_y = pad(train_y, maxlen=MAX_LENGTH, padding=\"post\", value=0)\n",
        "\n",
        "    return train_X, train_y, MAX_LENGTH\n",
        "\n",
        "# Test the function\n",
        "train_X, train_y, MAX_LENGTH = pad_sequences(train_X, train_y)\n"
      ],
      "metadata": {
        "id": "iBQt8FXMly8i"
      },
      "execution_count": null,
      "outputs": []
    },
    {
      "cell_type": "code",
      "source": [
        "\n",
        "from keras.layers import InputLayer, Activation\n",
        "from keras.layers import Dense, LSTM, InputLayer, Bidirectional, TimeDistributed, Embedding\n",
        "from keras.optimizers import Adam\n",
        "\n"
      ],
      "metadata": {
        "id": "cghK4hC8nWPr"
      },
      "execution_count": null,
      "outputs": []
    },
    {
      "cell_type": "code",
      "source": [
        "def define_model(MAX_LENGTH, len_word2idx, len_tag2idx):\n",
        "    # Define a sequential Keras model.\n",
        "    model = Sequential()\n",
        "\n",
        "    # Add an embedding layer to convert words to vectors.\n",
        "    model.add(Embedding(input_dim=len_word2idx, output_dim=100, input_length=MAX_LENGTH))\n",
        "\n",
        "    # Add a bidirectional LSTM layer to extract features from the sequences.\n",
        "    model.add(Bidirectional(LSTM(units=100, return_sequences=True, recurrent_dropout=0.1)))\n",
        "\n",
        "    # Add a time distributed dense layer to apply a Dense layer to each output element of the bidirectional LSTM.\n",
        "    model.add(TimeDistributed(Dense(50, activation=\"relu\")))\n",
        "\n",
        "    # Add a fully connected layer to compute the probability of each tag.\n",
        "    model.add(Dense(len_tag2idx, activation=\"softmax\"))\n",
        "\n",
        "    # Define an optimizer and compile the model.\n",
        "    adam = Adam(lr=0.001, beta_1=0.9, beta_2=0.999, epsilon=10e-8, decay=0.0)\n",
        "    model.compile(optimizer=adam, loss=\"categorical_crossentropy\", metrics=[\"accuracy\"])\n",
        "\n",
        "    print(model.summary())\n",
        "    return model"
      ],
      "metadata": {
        "id": "-8NBdzTen77k"
      },
      "execution_count": null,
      "outputs": []
    },
    {
      "cell_type": "code",
      "source": [
        "# Returns the one-hot encoding of the sequence.\n",
        "def to_categorical(train_y, num_tags=11):\n",
        "    # Convert the sequence of tags to one-hot encoding\n",
        "    categorical_y = np.zeros((train_y.shape[0], train_y.shape[1], num_tags))\n",
        "    for i, sentence in enumerate(train_y):\n",
        "        for j, tag in enumerate(sentence):\n",
        "            categorical_y[i, j, tag] = 1\n",
        "    return categorical_y\n"
      ],
      "metadata": {
        "id": "yPSD0zdxDgND"
      },
      "execution_count": null,
      "outputs": []
    },
    {
      "cell_type": "code",
      "source": [
        "def train(model, train_X, train_y):\n",
        "    optimizer = tf.keras.optimizers.Adam()\n",
        "    loss = tf.keras.losses.CategoricalCrossentropy()\n",
        "    metrics = [tf.keras.metrics.CategoricalAccuracy()]\n",
        "\n",
        "    model.compile(optimizer=optimizer, loss=loss, metrics=metrics)\n",
        "\n",
        "    model.fit(train_X, train_y, epochs=40)\n",
        "\n",
        "    return model\n",
        "    model = train(model, train_X, train_y)"
      ],
      "metadata": {
        "id": "ZEAxjaShEMK5"
      },
      "execution_count": null,
      "outputs": []
    },
    {
      "cell_type": "code",
      "source": [
        "def test(model, sentence):\n",
        "\n",
        "    # Tokenize the sentence and convert it to a sequence of word indices\n",
        "    test_sequence = []\n",
        "    for word in sentence:\n",
        "        if word.lower() in word2idx:\n",
        "            test_sequence.append(word2idx[word.lower()])\n",
        "        else:\n",
        "            # If the word is not in the vocabulary, use the <UNK> token\n",
        "            test_sequence.append(word2idx['<UNK>'])\n",
        "    test_sequence = np.array(test_sequence).reshape(1, -1)\n",
        "\n",
        "    # Use the model to predict the tags for each word in the sentence\n",
        "    predicted_tags = model.predict(test_sequence)\n",
        "\n",
        "    # Convert the predicted tags to their corresponding tag names\n",
        "    predicted_tags = [idx2tag[idx] for idx in np.argmax(predicted_tags, axis=-1).squeeze()]\n",
        "\n",
        "    # Print the sentence with the predicted tags\n",
        "    for word, tag in zip(sentence, predicted_tags):\n",
        "        print(f\"{word}/{tag}\", end=\" \")\n",
        "    print(\"\\n\")\n",
        "    test(model, testString1)\n",
        "    test(model, testString2.split())\n",
        "\n"
      ],
      "metadata": {
        "id": "r3rc4GFdEemH"
      },
      "execution_count": null,
      "outputs": []
    },
    {
      "cell_type": "code",
      "source": [
        "sentence = ['The', 'quick', 'brown', 'fox', 'jumps', 'over', 'the', 'lazy', 'dog']\n",
        "print(list(zip(sentence)))"
      ],
      "metadata": {
        "colab": {
          "base_uri": "https://localhost:8080/"
        },
        "id": "EPpljGnBFLt1",
        "outputId": "61c0cd08-75f6-41fd-d600-c366b3749fb9"
      },
      "execution_count": null,
      "outputs": [
        {
          "output_type": "stream",
          "name": "stdout",
          "text": [
            "[('The',), ('quick',), ('brown',), ('fox',), ('jumps',), ('over',), ('the',), ('lazy',), ('dog',)]\n"
          ]
        }
      ]
    }
  ]
}